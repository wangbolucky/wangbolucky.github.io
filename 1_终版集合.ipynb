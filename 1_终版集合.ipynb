{
  "nbformat": 4,
  "nbformat_minor": 0,
  "metadata": {
    "colab": {
      "name": "1.终版集合.ipynb",
      "provenance": [],
      "include_colab_link": true
    },
    "kernelspec": {
      "name": "python3",
      "display_name": "Python 3"
    }
  },
  "cells": [
    {
      "cell_type": "markdown",
      "metadata": {
        "id": "view-in-github",
        "colab_type": "text"
      },
      "source": [
        "<a href=\"https://colab.research.google.com/github/wangbolucky/wangbolucky.github.io/blob/master/1_%E7%BB%88%E7%89%88%E9%9B%86%E5%90%88.ipynb\" target=\"_parent\"><img src=\"https://colab.research.google.com/assets/colab-badge.svg\" alt=\"Open In Colab\"/></a>"
      ]
    },
    {
      "cell_type": "markdown",
      "metadata": {
        "id": "P8sBiMgGfwQf",
        "colab_type": "text"
      },
      "source": [
        "####<font color=yellow>1.数据加载前的准备条件\n",
        "<font size=2>1.1加载google云盘 \n",
        "><font size=1>每次重新打开都要重新加载并确认 \n",
        "\n",
        "<font size=2>1.2加载包或模块\n",
        "\n",
        "<font size=2>1.3设置中文字体\n",
        "><font size=1>中文字体需要先导入再在作图时引用 \n"
      ]
    },
    {
      "cell_type": "code",
      "metadata": {
        "id": "mbYrR8xRiwZi",
        "colab_type": "code",
        "outputId": "75b992f2-24d9-4aa6-86fe-4c2512cde9a1",
        "colab": {
          "base_uri": "https://localhost:8080/",
          "height": 35
        }
      },
      "source": [
        "!fc-list:lang=zh  #判定虚拟机里是否有中文字体"
      ],
      "execution_count": 2,
      "outputs": [
        {
          "output_type": "stream",
          "text": [
            "/bin/bash: fc-list:lang=zh: command not found\n"
          ],
          "name": "stdout"
        }
      ]
    },
    {
      "cell_type": "code",
      "metadata": {
        "id": "tj7liMwbf4Y6",
        "colab_type": "code",
        "outputId": "395f5e3b-057d-4f73-b842-39700f821f87",
        "colab": {
          "base_uri": "https://localhost:8080/",
          "height": 343
        }
      },
      "source": [
        "#1.装载google云盘\n",
        "from google.colab import drive\n",
        "drive.mount('/content/drive')\n",
        "\n",
        "\n",
        "\n",
        "#2.包加载\n",
        "import pandas as pd\n",
        "import numpy as np\n",
        "!Pip install -q matplotlib\n",
        "import matplotlib as mpl\n",
        "import matplotlib.pyplot as plt\n",
        "\n",
        "#3.字体加载\n",
        "!wget -O /usr/share/fonts/truetype/liberation/simhei.ttf \"http://d.xiazaiziti.com/en_fonts/fonts/s/SimHei.ttf\"\n",
        "zhfont = mpl.font_manager.FontProperties(fname='/usr/share/fonts/truetype/liberation/simhei.ttf')\n",
        "plt.rcParams['axes.unicode_minus'] = False #用来显示正负号\n"
      ],
      "execution_count": 3,
      "outputs": [
        {
          "output_type": "stream",
          "text": [
            "Go to this URL in a browser: https://accounts.google.com/o/oauth2/auth?client_id=947318989803-6bn6qk8qdgf4n4g3pfee6491hc0brc4i.apps.googleusercontent.com&redirect_uri=urn%3aietf%3awg%3aoauth%3a2.0%3aoob&response_type=code&scope=email%20https%3a%2f%2fwww.googleapis.com%2fauth%2fdocs.test%20https%3a%2f%2fwww.googleapis.com%2fauth%2fdrive%20https%3a%2f%2fwww.googleapis.com%2fauth%2fdrive.photos.readonly%20https%3a%2f%2fwww.googleapis.com%2fauth%2fpeopleapi.readonly\n",
            "\n",
            "Enter your authorization code:\n",
            "··········\n",
            "Mounted at /content/drive\n",
            "/bin/bash: Pip: command not found\n",
            "--2019-11-19 10:53:55--  http://d.xiazaiziti.com/en_fonts/fonts/s/SimHei.ttf\n",
            "Resolving d.xiazaiziti.com (d.xiazaiziti.com)... 67.198.189.58\n",
            "Connecting to d.xiazaiziti.com (d.xiazaiziti.com)|67.198.189.58|:80... connected.\n",
            "HTTP request sent, awaiting response... 200 OK\n",
            "Length: 10050868 (9.6M) [application/octet-stream]\n",
            "Saving to: ‘/usr/share/fonts/truetype/liberation/simhei.ttf’\n",
            "\n",
            "/usr/share/fonts/tr 100%[===================>]   9.58M  2.07MB/s    in 7.5s    \n",
            "\n",
            "2019-11-19 10:54:03 (1.27 MB/s) - ‘/usr/share/fonts/truetype/liberation/simhei.ttf’ saved [10050868/10050868]\n",
            "\n"
          ],
          "name": "stdout"
        }
      ]
    },
    {
      "cell_type": "markdown",
      "metadata": {
        "id": "FPPk69gVkeHR",
        "colab_type": "text"
      },
      "source": [
        "####<font color=yellow> 2.数据的加载&整理 \n",
        "<font size=2>2.1 加载文件\n",
        "\n",
        "<font size=2>2.2 数据整理\n",
        "\n",
        "* <font size=1>2.2.1 字段格式修改"
      ]
    },
    {
      "cell_type": "code",
      "metadata": {
        "id": "MXG4GejwkdRW",
        "colab_type": "code",
        "colab": {}
      },
      "source": [
        "data_kpi=pd.read_excel('/content/drive/My Drive/3.Python/1.colab/客服中心KPI日报.xlsx',\n",
        "                       sheet_name='日报',header=0) #header=0 代表首行是标题\n",
        "data_kpi.head(5).style\n",
        "#删除多余列\n",
        "del data_kpi['记录工单量']\n",
        "#data_kpi.drop(data_kpi['记录工单量'],axis=1,inplace=True)"
      ],
      "execution_count": 0,
      "outputs": []
    },
    {
      "cell_type": "code",
      "metadata": {
        "id": "ykQWC5B7oFrh",
        "colab_type": "code",
        "colab": {
          "base_uri": "https://localhost:8080/",
          "height": 695
        },
        "outputId": "841154d5-a562-4849-ab85-ddf94a39784f"
      },
      "source": [
        "##列格式设置\n",
        "#显示列属性\n",
        "print(data_kpi.info()) #还可以用dtypes ,不过info展示更多信息，count量，是否包含null值\n",
        "#修改某列列名\n",
        "data_kpi.rename(columns={'坐席工号':\"坐席id\"},inplace=True) #不加inplace不实际修改\n",
        "#修改某列字段类型 \n",
        "data_kpi['坐席id']=data_kpi['坐席id'].astype(object)\n",
        "#data_kpi['占用率']=data_kpi['占用率'].str.strip(\"%\").astype(float)/100 #python本身不支持百分比的计算，需要转换\n",
        "data_kpi['日期']=pd.to_datetime(data_kpi['日期']) #日期格式最好用日期函数转换\n",
        "#显示某列的唯一值\n",
        "print(data_kpi['渠道'].drop_duplicates())\n",
        "\n",
        "#筛选满足需要条件的数据\n",
        "df1=data_kpi[data_kpi['渠道']!='其他-人员系统']\n",
        "#按列排序\n",
        "df1.sort_values(['日期','职场'],inplace=True,ascending=True) #默认倒序排列\n",
        "df1.describe().style\n",
        "df1.head(3).style"
      ],
      "execution_count": 5,
      "outputs": [
        {
          "output_type": "stream",
          "text": [
            "<class 'pandas.core.frame.DataFrame'>\n",
            "RangeIndex: 1625 entries, 0 to 1624\n",
            "Data columns (total 14 columns):\n",
            "日期       1625 non-null object\n",
            "职场       1625 non-null object\n",
            "姓名       1625 non-null object\n",
            "MIS账号    1625 non-null object\n",
            "坐席工号     1625 non-null int64\n",
            "CPD      1625 non-null float64\n",
            "占用率      1625 non-null object\n",
            "领取量      1625 non-null int64\n",
            "完成量      1625 non-null int64\n",
            "性别       1625 non-null object\n",
            "客服性质     1625 non-null object\n",
            "员工性质     1625 non-null object\n",
            "职位       1625 non-null object\n",
            "渠道       1625 non-null object\n",
            "dtypes: float64(1), int64(3), object(10)\n",
            "memory usage: 177.9+ KB\n",
            "None\n",
            "0         电话\n",
            "1    其他-人员系统\n",
            "Name: 渠道, dtype: object\n"
          ],
          "name": "stdout"
        },
        {
          "output_type": "stream",
          "text": [
            "/usr/local/lib/python3.6/dist-packages/ipykernel_launcher.py:14: SettingWithCopyWarning: \n",
            "A value is trying to be set on a copy of a slice from a DataFrame\n",
            "\n",
            "See the caveats in the documentation: http://pandas.pydata.org/pandas-docs/stable/user_guide/indexing.html#returning-a-view-versus-a-copy\n",
            "  \n"
          ],
          "name": "stderr"
        },
        {
          "output_type": "execute_result",
          "data": {
            "text/html": [
              "<style  type=\"text/css\" >\n",
              "</style><table id=\"T_e75e0130_0aba_11ea_94df_0242ac1c0002\" ><thead>    <tr>        <th class=\"blank level0\" ></th>        <th class=\"col_heading level0 col0\" >日期</th>        <th class=\"col_heading level0 col1\" >职场</th>        <th class=\"col_heading level0 col2\" >姓名</th>        <th class=\"col_heading level0 col3\" >MIS账号</th>        <th class=\"col_heading level0 col4\" >坐席id</th>        <th class=\"col_heading level0 col5\" >CPD</th>        <th class=\"col_heading level0 col6\" >占用率</th>        <th class=\"col_heading level0 col7\" >领取量</th>        <th class=\"col_heading level0 col8\" >完成量</th>        <th class=\"col_heading level0 col9\" >性别</th>        <th class=\"col_heading level0 col10\" >客服性质</th>        <th class=\"col_heading level0 col11\" >员工性质</th>        <th class=\"col_heading level0 col12\" >职位</th>        <th class=\"col_heading level0 col13\" >渠道</th>    </tr></thead><tbody>\n",
              "                <tr>\n",
              "                        <th id=\"T_e75e0130_0aba_11ea_94df_0242ac1c0002level0_row0\" class=\"row_heading level0 row0\" >20</th>\n",
              "                        <td id=\"T_e75e0130_0aba_11ea_94df_0242ac1c0002row0_col0\" class=\"data row0 col0\" >2019-07-04 00:00:00</td>\n",
              "                        <td id=\"T_e75e0130_0aba_11ea_94df_0242ac1c0002row0_col1\" class=\"data row0 col1\" >七星成都</td>\n",
              "                        <td id=\"T_e75e0130_0aba_11ea_94df_0242ac1c0002row0_col2\" class=\"data row0 col2\" >成都申诉-付晓华</td>\n",
              "                        <td id=\"T_e75e0130_0aba_11ea_94df_0242ac1c0002row0_col3\" class=\"data row0 col3\" >huxiaohua_v</td>\n",
              "                        <td id=\"T_e75e0130_0aba_11ea_94df_0242ac1c0002row0_col4\" class=\"data row0 col4\" >87478</td>\n",
              "                        <td id=\"T_e75e0130_0aba_11ea_94df_0242ac1c0002row0_col5\" class=\"data row0 col5\" >165.92</td>\n",
              "                        <td id=\"T_e75e0130_0aba_11ea_94df_0242ac1c0002row0_col6\" class=\"data row0 col6\" >15.83%</td>\n",
              "                        <td id=\"T_e75e0130_0aba_11ea_94df_0242ac1c0002row0_col7\" class=\"data row0 col7\" >93</td>\n",
              "                        <td id=\"T_e75e0130_0aba_11ea_94df_0242ac1c0002row0_col8\" class=\"data row0 col8\" >213</td>\n",
              "                        <td id=\"T_e75e0130_0aba_11ea_94df_0242ac1c0002row0_col9\" class=\"data row0 col9\" >女</td>\n",
              "                        <td id=\"T_e75e0130_0aba_11ea_94df_0242ac1c0002row0_col10\" class=\"data row0 col10\" >CSR(二线)</td>\n",
              "                        <td id=\"T_e75e0130_0aba_11ea_94df_0242ac1c0002row0_col11\" class=\"data row0 col11\" >业务外包-BPO</td>\n",
              "                        <td id=\"T_e75e0130_0aba_11ea_94df_0242ac1c0002row0_col12\" class=\"data row0 col12\" >投诉专员</td>\n",
              "                        <td id=\"T_e75e0130_0aba_11ea_94df_0242ac1c0002row0_col13\" class=\"data row0 col13\" >电话</td>\n",
              "            </tr>\n",
              "            <tr>\n",
              "                        <th id=\"T_e75e0130_0aba_11ea_94df_0242ac1c0002level0_row1\" class=\"row_heading level0 row1\" >21</th>\n",
              "                        <td id=\"T_e75e0130_0aba_11ea_94df_0242ac1c0002row1_col0\" class=\"data row1 col0\" >2019-07-04 00:00:00</td>\n",
              "                        <td id=\"T_e75e0130_0aba_11ea_94df_0242ac1c0002row1_col1\" class=\"data row1 col1\" >七星成都</td>\n",
              "                        <td id=\"T_e75e0130_0aba_11ea_94df_0242ac1c0002row1_col2\" class=\"data row1 col2\" >成都申诉-刘玉婷1</td>\n",
              "                        <td id=\"T_e75e0130_0aba_11ea_94df_0242ac1c0002row1_col3\" class=\"data row1 col3\" >liuyuting1_v</td>\n",
              "                        <td id=\"T_e75e0130_0aba_11ea_94df_0242ac1c0002row1_col4\" class=\"data row1 col4\" >87486</td>\n",
              "                        <td id=\"T_e75e0130_0aba_11ea_94df_0242ac1c0002row1_col5\" class=\"data row1 col5\" >171.32</td>\n",
              "                        <td id=\"T_e75e0130_0aba_11ea_94df_0242ac1c0002row1_col6\" class=\"data row1 col6\" >10.85%</td>\n",
              "                        <td id=\"T_e75e0130_0aba_11ea_94df_0242ac1c0002row1_col7\" class=\"data row1 col7\" >92</td>\n",
              "                        <td id=\"T_e75e0130_0aba_11ea_94df_0242ac1c0002row1_col8\" class=\"data row1 col8\" >220</td>\n",
              "                        <td id=\"T_e75e0130_0aba_11ea_94df_0242ac1c0002row1_col9\" class=\"data row1 col9\" >女</td>\n",
              "                        <td id=\"T_e75e0130_0aba_11ea_94df_0242ac1c0002row1_col10\" class=\"data row1 col10\" >CSR(二线)</td>\n",
              "                        <td id=\"T_e75e0130_0aba_11ea_94df_0242ac1c0002row1_col11\" class=\"data row1 col11\" >业务外包-BPO</td>\n",
              "                        <td id=\"T_e75e0130_0aba_11ea_94df_0242ac1c0002row1_col12\" class=\"data row1 col12\" >投诉专员</td>\n",
              "                        <td id=\"T_e75e0130_0aba_11ea_94df_0242ac1c0002row1_col13\" class=\"data row1 col13\" >电话</td>\n",
              "            </tr>\n",
              "            <tr>\n",
              "                        <th id=\"T_e75e0130_0aba_11ea_94df_0242ac1c0002level0_row2\" class=\"row_heading level0 row2\" >22</th>\n",
              "                        <td id=\"T_e75e0130_0aba_11ea_94df_0242ac1c0002row2_col0\" class=\"data row2 col0\" >2019-07-04 00:00:00</td>\n",
              "                        <td id=\"T_e75e0130_0aba_11ea_94df_0242ac1c0002row2_col1\" class=\"data row2 col1\" >七星成都</td>\n",
              "                        <td id=\"T_e75e0130_0aba_11ea_94df_0242ac1c0002row2_col2\" class=\"data row2 col2\" >成都申诉-周琴3</td>\n",
              "                        <td id=\"T_e75e0130_0aba_11ea_94df_0242ac1c0002row2_col3\" class=\"data row2 col3\" >zhouqin3_v</td>\n",
              "                        <td id=\"T_e75e0130_0aba_11ea_94df_0242ac1c0002row2_col4\" class=\"data row2 col4\" >86468</td>\n",
              "                        <td id=\"T_e75e0130_0aba_11ea_94df_0242ac1c0002row2_col5\" class=\"data row2 col5\" >146.37</td>\n",
              "                        <td id=\"T_e75e0130_0aba_11ea_94df_0242ac1c0002row2_col6\" class=\"data row2 col6\" >15.44%</td>\n",
              "                        <td id=\"T_e75e0130_0aba_11ea_94df_0242ac1c0002row2_col7\" class=\"data row2 col7\" >106</td>\n",
              "                        <td id=\"T_e75e0130_0aba_11ea_94df_0242ac1c0002row2_col8\" class=\"data row2 col8\" >194</td>\n",
              "                        <td id=\"T_e75e0130_0aba_11ea_94df_0242ac1c0002row2_col9\" class=\"data row2 col9\" >女</td>\n",
              "                        <td id=\"T_e75e0130_0aba_11ea_94df_0242ac1c0002row2_col10\" class=\"data row2 col10\" >CSR(二线)</td>\n",
              "                        <td id=\"T_e75e0130_0aba_11ea_94df_0242ac1c0002row2_col11\" class=\"data row2 col11\" >业务外包-BPO</td>\n",
              "                        <td id=\"T_e75e0130_0aba_11ea_94df_0242ac1c0002row2_col12\" class=\"data row2 col12\" >投诉专员</td>\n",
              "                        <td id=\"T_e75e0130_0aba_11ea_94df_0242ac1c0002row2_col13\" class=\"data row2 col13\" >电话</td>\n",
              "            </tr>\n",
              "    </tbody></table>"
            ],
            "text/plain": [
              "<pandas.io.formats.style.Styler at 0x7fae3e9d5128>"
            ]
          },
          "metadata": {
            "tags": []
          },
          "execution_count": 5
        }
      ]
    },
    {
      "cell_type": "markdown",
      "metadata": {
        "id": "X8Df3-c57CGO",
        "colab_type": "text"
      },
      "source": [
        "####<font color=yellow> 3.描述统计 \n",
        "<font size=2>3.1 频数统计\n",
        "><font size=1>如果只是简单的统计，可以直接使用汇总函数  \n",
        "><font size=1>如果需要对列进行多种汇总统计，需要用agg  \n",
        "><font size=1>如果需要跨列运算，需要用apply apply可以应用自定义函数，可以做更复杂的应用\n",
        "\n"
      ]
    },
    {
      "cell_type": "code",
      "metadata": {
        "id": "EXw6xZyZ7bha",
        "colab_type": "code",
        "colab": {
          "base_uri": "https://localhost:8080/",
          "height": 173
        },
        "outputId": "9adc6263-9ab6-44f5-aab6-21c0cae73923"
      },
      "source": [
        "# 频数统计\n",
        "df2=df1[['日期','职场','领取量','完成量']]\n",
        "df2[['职场','完成量']].groupby(by=['职场']).sum()"
      ],
      "execution_count": 6,
      "outputs": [
        {
          "output_type": "execute_result",
          "data": {
            "text/html": [
              "<div>\n",
              "<style scoped>\n",
              "    .dataframe tbody tr th:only-of-type {\n",
              "        vertical-align: middle;\n",
              "    }\n",
              "\n",
              "    .dataframe tbody tr th {\n",
              "        vertical-align: top;\n",
              "    }\n",
              "\n",
              "    .dataframe thead th {\n",
              "        text-align: right;\n",
              "    }\n",
              "</style>\n",
              "<table border=\"1\" class=\"dataframe\">\n",
              "  <thead>\n",
              "    <tr style=\"text-align: right;\">\n",
              "      <th></th>\n",
              "      <th>完成量</th>\n",
              "    </tr>\n",
              "    <tr>\n",
              "      <th>职场</th>\n",
              "      <th></th>\n",
              "    </tr>\n",
              "  </thead>\n",
              "  <tbody>\n",
              "    <tr>\n",
              "      <th>七星成都</th>\n",
              "      <td>47903</td>\n",
              "    </tr>\n",
              "    <tr>\n",
              "      <th>泰盈成都</th>\n",
              "      <td>40325</td>\n",
              "    </tr>\n",
              "    <tr>\n",
              "      <th>长沙自建</th>\n",
              "      <td>35046</td>\n",
              "    </tr>\n",
              "  </tbody>\n",
              "</table>\n",
              "</div>"
            ],
            "text/plain": [
              "        完成量\n",
              "职场         \n",
              "七星成都  47903\n",
              "泰盈成都  40325\n",
              "长沙自建  35046"
            ]
          },
          "metadata": {
            "tags": []
          },
          "execution_count": 6
        }
      ]
    },
    {
      "cell_type": "code",
      "metadata": {
        "id": "OMpNB9n8-TEZ",
        "colab_type": "code",
        "colab": {
          "base_uri": "https://localhost:8080/",
          "height": 359
        },
        "outputId": "512eaa13-8dd0-4350-c41f-022580857cfb"
      },
      "source": [
        "#同时应用多个统计函数 agg()\n",
        "df2.groupby(by='日期').agg({'职场':'count','完成量':['sum',np.min,np.max]})"
      ],
      "execution_count": 7,
      "outputs": [
        {
          "output_type": "execute_result",
          "data": {
            "text/html": [
              "<div>\n",
              "<style scoped>\n",
              "    .dataframe tbody tr th:only-of-type {\n",
              "        vertical-align: middle;\n",
              "    }\n",
              "\n",
              "    .dataframe tbody tr th {\n",
              "        vertical-align: top;\n",
              "    }\n",
              "\n",
              "    .dataframe thead tr th {\n",
              "        text-align: left;\n",
              "    }\n",
              "\n",
              "    .dataframe thead tr:last-of-type th {\n",
              "        text-align: right;\n",
              "    }\n",
              "</style>\n",
              "<table border=\"1\" class=\"dataframe\">\n",
              "  <thead>\n",
              "    <tr>\n",
              "      <th></th>\n",
              "      <th>职场</th>\n",
              "      <th colspan=\"3\" halign=\"left\">完成量</th>\n",
              "    </tr>\n",
              "    <tr>\n",
              "      <th></th>\n",
              "      <th>count</th>\n",
              "      <th>sum</th>\n",
              "      <th>amin</th>\n",
              "      <th>amax</th>\n",
              "    </tr>\n",
              "    <tr>\n",
              "      <th>日期</th>\n",
              "      <th></th>\n",
              "      <th></th>\n",
              "      <th></th>\n",
              "      <th></th>\n",
              "    </tr>\n",
              "  </thead>\n",
              "  <tbody>\n",
              "    <tr>\n",
              "      <th>2019-07-04</th>\n",
              "      <td>211</td>\n",
              "      <td>15697</td>\n",
              "      <td>1</td>\n",
              "      <td>261</td>\n",
              "    </tr>\n",
              "    <tr>\n",
              "      <th>2019-07-05</th>\n",
              "      <td>218</td>\n",
              "      <td>19021</td>\n",
              "      <td>1</td>\n",
              "      <td>461</td>\n",
              "    </tr>\n",
              "    <tr>\n",
              "      <th>2019-07-06</th>\n",
              "      <td>161</td>\n",
              "      <td>14302</td>\n",
              "      <td>2</td>\n",
              "      <td>500</td>\n",
              "    </tr>\n",
              "    <tr>\n",
              "      <th>2019-07-07</th>\n",
              "      <td>194</td>\n",
              "      <td>13837</td>\n",
              "      <td>1</td>\n",
              "      <td>252</td>\n",
              "    </tr>\n",
              "    <tr>\n",
              "      <th>2019-07-08</th>\n",
              "      <td>193</td>\n",
              "      <td>13342</td>\n",
              "      <td>2</td>\n",
              "      <td>263</td>\n",
              "    </tr>\n",
              "    <tr>\n",
              "      <th>2019-07-09</th>\n",
              "      <td>208</td>\n",
              "      <td>15631</td>\n",
              "      <td>1</td>\n",
              "      <td>325</td>\n",
              "    </tr>\n",
              "    <tr>\n",
              "      <th>2019-07-10</th>\n",
              "      <td>228</td>\n",
              "      <td>15122</td>\n",
              "      <td>1</td>\n",
              "      <td>334</td>\n",
              "    </tr>\n",
              "    <tr>\n",
              "      <th>2019-07-11</th>\n",
              "      <td>211</td>\n",
              "      <td>16322</td>\n",
              "      <td>1</td>\n",
              "      <td>359</td>\n",
              "    </tr>\n",
              "  </tbody>\n",
              "</table>\n",
              "</div>"
            ],
            "text/plain": [
              "              职场    完成量          \n",
              "           count    sum amin amax\n",
              "日期                               \n",
              "2019-07-04   211  15697    1  261\n",
              "2019-07-05   218  19021    1  461\n",
              "2019-07-06   161  14302    2  500\n",
              "2019-07-07   194  13837    1  252\n",
              "2019-07-08   193  13342    2  263\n",
              "2019-07-09   208  15631    1  325\n",
              "2019-07-10   228  15122    1  334\n",
              "2019-07-11   211  16322    1  359"
            ]
          },
          "metadata": {
            "tags": []
          },
          "execution_count": 7
        }
      ]
    },
    {
      "cell_type": "code",
      "metadata": {
        "id": "VokAIp3yAWSf",
        "colab_type": "code",
        "colab": {
          "base_uri": "https://localhost:8080/",
          "height": 197
        },
        "outputId": "eda68578-b380-4431-a305-aa567318168a"
      },
      "source": [
        "#跨列运算 apply\n",
        "def des(x):\n",
        "  return x['完成量'].sum()/x['职场'].count()\n",
        "  #return x['完成量'].std()/x['完成量'].mean()\n",
        "df2.groupby(by='日期').apply(des) #这样使用两列计算出来了cpd"
      ],
      "execution_count": 8,
      "outputs": [
        {
          "output_type": "execute_result",
          "data": {
            "text/plain": [
              "日期\n",
              "2019-07-04    74.393365\n",
              "2019-07-05    87.252294\n",
              "2019-07-06    88.832298\n",
              "2019-07-07    71.324742\n",
              "2019-07-08    69.129534\n",
              "2019-07-09    75.149038\n",
              "2019-07-10    66.324561\n",
              "2019-07-11    77.355450\n",
              "dtype: float64"
            ]
          },
          "metadata": {
            "tags": []
          },
          "execution_count": 8
        }
      ]
    },
    {
      "cell_type": "markdown",
      "metadata": {
        "id": "X41ClGwEfNJK",
        "colab_type": "text"
      },
      "source": [
        "<font size=2>3.2描述统计\n",
        "><font size=1>describe 基本涵盖了主要统计指标  描述统计只针对数值性字段有效 \n",
        "><font size=1> 需要补充的指标有中位数，众数，"
      ]
    },
    {
      "cell_type": "code",
      "metadata": {
        "id": "6xAkAvQJcptc",
        "colab_type": "code",
        "colab": {
          "base_uri": "https://localhost:8080/",
          "height": 142
        },
        "outputId": "23fa7d3b-58e1-4dd2-a733-b7de7f87ecaf"
      },
      "source": [
        "df1.describe().T"
      ],
      "execution_count": 9,
      "outputs": [
        {
          "output_type": "execute_result",
          "data": {
            "text/html": [
              "<div>\n",
              "<style scoped>\n",
              "    .dataframe tbody tr th:only-of-type {\n",
              "        vertical-align: middle;\n",
              "    }\n",
              "\n",
              "    .dataframe tbody tr th {\n",
              "        vertical-align: top;\n",
              "    }\n",
              "\n",
              "    .dataframe thead th {\n",
              "        text-align: right;\n",
              "    }\n",
              "</style>\n",
              "<table border=\"1\" class=\"dataframe\">\n",
              "  <thead>\n",
              "    <tr style=\"text-align: right;\">\n",
              "      <th></th>\n",
              "      <th>count</th>\n",
              "      <th>mean</th>\n",
              "      <th>std</th>\n",
              "      <th>min</th>\n",
              "      <th>25%</th>\n",
              "      <th>50%</th>\n",
              "      <th>75%</th>\n",
              "      <th>max</th>\n",
              "    </tr>\n",
              "  </thead>\n",
              "  <tbody>\n",
              "    <tr>\n",
              "      <th>CPD</th>\n",
              "      <td>1624.0</td>\n",
              "      <td>68.205560</td>\n",
              "      <td>73.219449</td>\n",
              "      <td>5.0</td>\n",
              "      <td>21.2825</td>\n",
              "      <td>36.74</td>\n",
              "      <td>127.4525</td>\n",
              "      <td>1184.81</td>\n",
              "    </tr>\n",
              "    <tr>\n",
              "      <th>领取量</th>\n",
              "      <td>1624.0</td>\n",
              "      <td>68.955049</td>\n",
              "      <td>137.106355</td>\n",
              "      <td>0.0</td>\n",
              "      <td>20.0000</td>\n",
              "      <td>40.00</td>\n",
              "      <td>81.0000</td>\n",
              "      <td>2526.00</td>\n",
              "    </tr>\n",
              "    <tr>\n",
              "      <th>完成量</th>\n",
              "      <td>1624.0</td>\n",
              "      <td>75.907635</td>\n",
              "      <td>79.729441</td>\n",
              "      <td>1.0</td>\n",
              "      <td>20.0000</td>\n",
              "      <td>37.00</td>\n",
              "      <td>150.0000</td>\n",
              "      <td>500.00</td>\n",
              "    </tr>\n",
              "  </tbody>\n",
              "</table>\n",
              "</div>"
            ],
            "text/plain": [
              "      count       mean         std  min      25%    50%       75%      max\n",
              "CPD  1624.0  68.205560   73.219449  5.0  21.2825  36.74  127.4525  1184.81\n",
              "领取量  1624.0  68.955049  137.106355  0.0  20.0000  40.00   81.0000  2526.00\n",
              "完成量  1624.0  75.907635   79.729441  1.0  20.0000  37.00  150.0000   500.00"
            ]
          },
          "metadata": {
            "tags": []
          },
          "execution_count": 9
        }
      ]
    },
    {
      "cell_type": "code",
      "metadata": {
        "id": "H2jVpPdmdIdI",
        "colab_type": "code",
        "colab": {
          "base_uri": "https://localhost:8080/",
          "height": 204
        },
        "outputId": "01055f51-f699-4981-a884-d7d7326eb6a2"
      },
      "source": [
        "from  scipy import stats  #众数获取\n",
        "df2.groupby('职场').agg(['median','mean',stats.mode])\n"
      ],
      "execution_count": 10,
      "outputs": [
        {
          "output_type": "execute_result",
          "data": {
            "text/html": [
              "<div>\n",
              "<style scoped>\n",
              "    .dataframe tbody tr th:only-of-type {\n",
              "        vertical-align: middle;\n",
              "    }\n",
              "\n",
              "    .dataframe tbody tr th {\n",
              "        vertical-align: top;\n",
              "    }\n",
              "\n",
              "    .dataframe thead tr th {\n",
              "        text-align: left;\n",
              "    }\n",
              "\n",
              "    .dataframe thead tr:last-of-type th {\n",
              "        text-align: right;\n",
              "    }\n",
              "</style>\n",
              "<table border=\"1\" class=\"dataframe\">\n",
              "  <thead>\n",
              "    <tr>\n",
              "      <th></th>\n",
              "      <th colspan=\"3\" halign=\"left\">领取量</th>\n",
              "      <th colspan=\"3\" halign=\"left\">完成量</th>\n",
              "    </tr>\n",
              "    <tr>\n",
              "      <th></th>\n",
              "      <th>median</th>\n",
              "      <th>mean</th>\n",
              "      <th>mode</th>\n",
              "      <th>median</th>\n",
              "      <th>mean</th>\n",
              "      <th>mode</th>\n",
              "    </tr>\n",
              "    <tr>\n",
              "      <th>职场</th>\n",
              "      <th></th>\n",
              "      <th></th>\n",
              "      <th></th>\n",
              "      <th></th>\n",
              "      <th></th>\n",
              "      <th></th>\n",
              "    </tr>\n",
              "  </thead>\n",
              "  <tbody>\n",
              "    <tr>\n",
              "      <th>七星成都</th>\n",
              "      <td>90</td>\n",
              "      <td>115.530612</td>\n",
              "      <td>([83], [14])</td>\n",
              "      <td>194</td>\n",
              "      <td>195.522449</td>\n",
              "      <td>([203], [9])</td>\n",
              "    </tr>\n",
              "    <tr>\n",
              "      <th>泰盈成都</th>\n",
              "      <td>90</td>\n",
              "      <td>113.561265</td>\n",
              "      <td>([84], [10])</td>\n",
              "      <td>170</td>\n",
              "      <td>159.387352</td>\n",
              "      <td>([201], [11])</td>\n",
              "    </tr>\n",
              "    <tr>\n",
              "      <th>长沙自建</th>\n",
              "      <td>30</td>\n",
              "      <td>48.798401</td>\n",
              "      <td>([0], [44])</td>\n",
              "      <td>28</td>\n",
              "      <td>31.124334</td>\n",
              "      <td>([10], [43])</td>\n",
              "    </tr>\n",
              "  </tbody>\n",
              "</table>\n",
              "</div>"
            ],
            "text/plain": [
              "        领取量                              完成量                           \n",
              "     median        mean          mode median        mean           mode\n",
              "职场                                                                     \n",
              "七星成都     90  115.530612  ([83], [14])    194  195.522449   ([203], [9])\n",
              "泰盈成都     90  113.561265  ([84], [10])    170  159.387352  ([201], [11])\n",
              "长沙自建     30   48.798401   ([0], [44])     28   31.124334   ([10], [43])"
            ]
          },
          "metadata": {
            "tags": []
          },
          "execution_count": 10
        }
      ]
    },
    {
      "cell_type": "markdown",
      "metadata": {
        "id": "-LcC9-spfQOV",
        "colab_type": "text"
      },
      "source": [
        "<font size=4>"
      ]
    },
    {
      "cell_type": "markdown",
      "metadata": {
        "id": "JW6zMODgPNud",
        "colab_type": "text"
      },
      "source": [
        "####<font color=yellow >4.正态性检验  \n",
        "<font size=2 >数据是否符合正态性是很多方法（如回归，方差，T检验等）的分析基础；  \n",
        "正态性检验是一种非参数检验，利用与标准正态分布的差异性来判定是否拒绝HO假设；  \n",
        "常规检验方法：  \n",
        "1. <font color=lightgrey>  直方图直观查看\n",
        "2. 通过PP图或者QQ图\n",
        "3. 通过p值查看\n",
        "\n",
        "\n"
      ]
    },
    {
      "cell_type": "code",
      "metadata": {
        "id": "lPPrLVg9WJQx",
        "colab_type": "code",
        "colab": {
          "base_uri": "https://localhost:8080/",
          "height": 264
        },
        "outputId": "e746ea89-ec7d-40bb-af7a-ff1d803bc14d"
      },
      "source": [
        "#通过直方图查看\n",
        "print(df1['职场'].drop_duplicates())\n",
        "zt_data=df1[(df1['职场']=='泰盈成都')&(df1['完成量']>90)]\n",
        "zt_data.head().style\n",
        "\n",
        "fig=plt.figure(figsize=(10,9)) #创建画布\n",
        "ax1=fig.add_subplot(3,1,1) #创建三个图床，每层一个，并把ax1绘制在第一个图床上\n",
        "zt_data['完成量'].hist(bins=15,alpha=0.8,ax=ax1) #在图床1上创建一个15个分块的直方图,透明度为50%\n",
        "zt_data['完成量'].plot(kind='kde',secondary_y=True,ax=ax1) #绘制概率密度图，放置在第二个y轴上显示\n",
        "plt.grid()  #显示网格\n"
      ],
      "execution_count": 11,
      "outputs": [
        {
          "output_type": "stream",
          "text": [
            "20    七星成都\n",
            "3     泰盈成都\n",
            "0     长沙自建\n",
            "Name: 职场, dtype: object\n"
          ],
          "name": "stdout"
        },
        {
          "output_type": "display_data",
          "data": {
            "image/png": "[encoded data removed]",
            "text/plain": [
              "<Figure size 720x648 with 2 Axes>"
            ]
          },
          "metadata": {
            "tags": []
          }
        }
      ]
    },
    {
      "cell_type": "code",
      "metadata": {
        "id": "ewLzfWAtcMqe",
        "colab_type": "code",
        "colab": {
          "base_uri": "https://localhost:8080/",
          "height": 35
        },
        "outputId": "f8bcc734-9ea5-44a5-d359-7d2547dd67c5"
      },
      "source": [
        "#通过计算p值\n",
        "from scipy import stats\n",
        "\n",
        "zt_mean=zt_data['完成量'].mean()\n",
        "zt_std=zt_data['完成量'].std()\n",
        "stats.kstest(zt_data['完成量'],'norm',(zt_mean,zt_std))  #stats.kstest(待检查的数据，检验方法-这里使用正态，（均值，标准差)）\n",
        "#这里返回的p<0.05 拒接HO假设：满足正态分布，因此不满足正态分布\n",
        "\n"
      ],
      "execution_count": 12,
      "outputs": [
        {
          "output_type": "execute_result",
          "data": {
            "text/plain": [
              "KstestResult(statistic=0.09647193087449046, pvalue=0.03168125877121062)"
            ]
          },
          "metadata": {
            "tags": []
          },
          "execution_count": 12
        }
      ]
    },
    {
      "cell_type": "markdown",
      "metadata": {
        "id": "NHgwM2dd66bg",
        "colab_type": "text"
      },
      "source": [
        ""
      ]
    },
    {
      "cell_type": "markdown",
      "metadata": {
        "id": "bLzYoXpwffeL",
        "colab_type": "text"
      },
      "source": [
        "#### <font color=yellow> 4.差异关系-卡方检验\n",
        "<font size=2> 卡方检验是对一组或两组定类数据之间是否有差异性的检验；  \n",
        "详细解释：[卡方分布](https://www.cnblogs.com/Yuanjing-Liu/p/9252844.html)\n",
        "\n",
        "\n",
        "<font size=2>卡方检验可做两类检验：  \n",
        "1.独立性检验：两类字段是否相互独立，比如不同公司的男女比例是否有差异；  \n",
        "2.适度性检验：某组字段是否和理论数值有明显差异； \n",
        "\n",
        "\n",
        "<font size=2>前提：在进行分析之前，需要明确HO假设是什么；最常用的卡方检验方法是person检验，一般要求满足正态分布及样本量应>5"
      ]
    },
    {
      "cell_type": "code",
      "metadata": {
        "id": "2WSuLWaIeSUY",
        "colab_type": "code",
        "colab": {
          "base_uri": "https://localhost:8080/",
          "height": 521
        },
        "outputId": "e7e6ba6e-33a6-4154-8e8c-0ac1374aee27"
      },
      "source": [
        "#卡方分析\n",
        "\n",
        "#假如想知道不同职场的男女比例是否有明显差异，这里我们假设H0不同职场的男女比例没有明显差异\n",
        "df_chisquare=df1[df1['日期']=='2019-07-04'].copy()\n",
        "print(df_chisquare.info())\n",
        "tb=pd.pivot_table(df_chisquare,values='日期',columns=['性别'],index='职场',aggfunc='count')\n",
        "print(tb)\n",
        "\n",
        "#独立性检验:检测不同职场的男女比例是否有明显差异\n",
        "from scipy.stats import chi2_contingency\n",
        "d = np.array([[25,23,114], [7,10,32]])\n",
        "print(chi2_contingency(d)) #输出的指标分别为1.卡方值，2.p值 ，3.自由度，4.理论频数\n",
        "\n",
        "\n",
        "#适度性检验:检测男女比例是否有明显差异\n",
        "from scipy import stats\n",
        "sj = [25,30]\n",
        "ll = [27.5,27.5]  #这里是理论频数，通常大部分的H0都是无区别，因此这里认为男女人数应该分别是25+30/2\n",
        "print(stats.chisquare(sj, f_exp = ll)) "
      ],
      "execution_count": 13,
      "outputs": [
        {
          "output_type": "stream",
          "text": [
            "<class 'pandas.core.frame.DataFrame'>\n",
            "Int64Index: 211 entries, 20 to 211\n",
            "Data columns (total 14 columns):\n",
            "日期       211 non-null datetime64[ns]\n",
            "职场       211 non-null object\n",
            "姓名       211 non-null object\n",
            "MIS账号    211 non-null object\n",
            "坐席id     211 non-null object\n",
            "CPD      211 non-null float64\n",
            "占用率      211 non-null object\n",
            "领取量      211 non-null int64\n",
            "完成量      211 non-null int64\n",
            "性别       211 non-null object\n",
            "客服性质     211 non-null object\n",
            "员工性质     211 non-null object\n",
            "职位       211 non-null object\n",
            "渠道       211 non-null object\n",
            "dtypes: datetime64[ns](1), float64(1), int64(2), object(10)\n",
            "memory usage: 24.7+ KB\n",
            "None\n",
            "性别      女   男\n",
            "职场           \n",
            "七星成都   25   7\n",
            "泰盈成都   23  10\n",
            "长沙自建  114  32\n",
            "(1.0998714001574672, 0.5769869094005882, 2, array([[ 24.56872038,  25.33649289, 112.09478673],\n",
            "       [  7.43127962,   7.66350711,  33.90521327]]))\n",
            "Power_divergenceResult(statistic=0.45454545454545453, pvalue=0.5001842570707943)\n"
          ],
          "name": "stdout"
        }
      ]
    },
    {
      "cell_type": "markdown",
      "metadata": {
        "id": "NbWwb4AuqY9E",
        "colab_type": "text"
      },
      "source": [
        "##### <font color=yellow>5.差异关系-方差分析\n",
        "<font size=2> 适用范畴：定类(x）与定量(y）  \n",
        "举例：不同地区的消费水平或收入是否有差异  \n"
      ]
    },
    {
      "cell_type": "code",
      "metadata": {
        "id": "JpSEpKG5h54u",
        "colab_type": "code",
        "colab": {}
      },
      "source": [
        ""
      ],
      "execution_count": 0,
      "outputs": []
    }
  ]
}